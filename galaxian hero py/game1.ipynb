{
 "cells": [
  {
   "cell_type": "code",
   "execution_count": 1,
   "id": "8bf8a456",
   "metadata": {},
   "outputs": [
    {
     "name": "stdout",
     "output_type": "stream",
     "text": [
      "pygame 2.1.2 (SDL 2.0.18, Python 3.9.7)\n",
      "Hello from the pygame community. https://www.pygame.org/contribute.html\n"
     ]
    }
   ],
   "source": [
    "import pygame"
   ]
  },
  {
   "cell_type": "code",
   "execution_count": 7,
   "id": "0f37b649",
   "metadata": {
    "scrolled": true
   },
   "outputs": [
    {
     "ename": "IndentationError",
     "evalue": "unindent does not match any outer indentation level (<tokenize>, line 35)",
     "output_type": "error",
     "traceback": [
      "\u001b[1;36m  File \u001b[1;32m\"<tokenize>\"\u001b[1;36m, line \u001b[1;32m35\u001b[0m\n\u001b[1;33m    if event.key == pygame.K_RIGHT:\u001b[0m\n\u001b[1;37m    ^\u001b[0m\n\u001b[1;31mIndentationError\u001b[0m\u001b[1;31m:\u001b[0m unindent does not match any outer indentation level\n"
     ]
    }
   ],
   "source": [
    "# initialize the pygame\n",
    "pygame.init()\n",
    "\n",
    "#create the screen 800=width, 600 = height\n",
    "screen = pygame.display.set_mode((800, 600))\n",
    "\n",
    "#\"caption title\" the window of our game and \"icon\"\n",
    "pygame.display.set_caption(\"Galaxian-hero\")\n",
    "icon = pygame.image.load('spaceship.png')\n",
    "pygame.display.set_icon(icon)\n",
    "\n",
    "#player\n",
    "playerImg = pygame.image.load('shooter.png')\n",
    "playerX = 370\n",
    "playerY = 480\n",
    "\n",
    "def player(X,Y):\n",
    "    screen.blit(playerImg, ( X, Y))\n",
    "#make sure screen run and quiet precisly (loop)\n",
    "#rgb screen fill\n",
    "screen.fill((0,0,0))\n",
    "running = True\n",
    "while running:\n",
    "    #rgb screen fill\n",
    "    screen.fill((0,0,0))\n",
    "    \n",
    "    for event in pygame.event.get():\n",
    "        if event.type == pygame.QUIT:\n",
    "            running = False\n",
    "    #if keystrokes is pressed player left right functionality\n",
    "        if event.type == pygame.KEYDOWN:\n",
    "            if event.key == pygame.K_LEFT:\n",
    "                print(\"Left key is pressed\")\n",
    "            \n",
    "             if event.key == pygame.K_RIGHT:\n",
    "                print(\"Right key is pressed\")\n",
    "        if event.type == pygame.KEYUP:\n",
    "            if event.key == pygame.K_LEFT or event.key == pygame.K_RIGHT:\n",
    "                print (\"keystroke has been released\")\n",
    "\n",
    "    player(playerX, playerY)\n",
    "    pygame.display.update()\n",
    "\n",
    "\n",
    "\n",
    "            "
   ]
  },
  {
   "cell_type": "code",
   "execution_count": null,
   "id": "319431db",
   "metadata": {},
   "outputs": [],
   "source": []
  },
  {
   "cell_type": "code",
   "execution_count": null,
   "id": "497411e3",
   "metadata": {},
   "outputs": [],
   "source": []
  }
 ],
 "metadata": {
  "kernelspec": {
   "display_name": "Python 3 (ipykernel)",
   "language": "python",
   "name": "python3"
  },
  "language_info": {
   "codemirror_mode": {
    "name": "ipython",
    "version": 3
   },
   "file_extension": ".py",
   "mimetype": "text/x-python",
   "name": "python",
   "nbconvert_exporter": "python",
   "pygments_lexer": "ipython3",
   "version": "3.9.7"
  }
 },
 "nbformat": 4,
 "nbformat_minor": 5
}
